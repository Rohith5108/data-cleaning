{
 "cells": [
  {
   "cell_type": "code",
   "execution_count": 1,
   "metadata": {},
   "outputs": [],
   "source": [
    "import pandas as pd\n",
    "import numpy as np\n",
    "import string\n"
   ]
  },
  {
   "cell_type": "code",
   "execution_count": 2,
   "metadata": {},
   "outputs": [
    {
     "name": "stdout",
     "output_type": "stream",
     "text": [
      "(72311, 5)\n"
     ]
    }
   ],
   "source": [
    "# Reading the data file into a DATAFRAME and checking the shape \n",
    "data=pd.read_csv('AmazonMobileDataUncleaned.csv',encoding = \"ISO-8859-1\")\n",
    "print(data.shape)\n"
   ]
  },
  {
   "cell_type": "code",
   "execution_count": 3,
   "metadata": {},
   "outputs": [
    {
     "name": "stdout",
     "output_type": "stream",
     "text": [
      "!\"#$%&'()*+,-./:;<=>?@[\\]^_`{|}~\n"
     ]
    }
   ],
   "source": [
    "# Function to remove punctuations and digits from the text\n",
    "def removepunctuation(text):\n",
    "    p = set(string.punctuation) # p take all the punctuations, punctuations displayed below\n",
    "    text=text.lower() # convert text to lower case\n",
    "    words=text.split() # split the text into words\n",
    "    ctext=[]\n",
    "    for i in range(10): #adding numbers from 0 - 9 to p \n",
    "        p.add(str(i))\n",
    "    for i in words:\n",
    "        t=''.join([x for x in i.encode(\"ascii\",\"ignore\").decode(\"ascii\") if x not in p]) # ignoring non ascii charecters and numbers\n",
    "        ctext.append(t)\n",
    "    return \" \".join([i for i in ctext]) # joining the cleaned words to text\n",
    "\n",
    "\n",
    "print(string.punctuation)\n",
    "#data=pd.read_csv('AmazonMobileDataUncleaned.csv')\n",
    "uncleaned=[i for i in data.uncleanedreview]\n",
    "cleaned=[]\n",
    "for i in uncleaned:\n",
    "    try:\n",
    "        ctxt=removepunctuation(i)\n",
    "        if len(ctxt)==0: raise()\n",
    "        cleaned.append(ctxt)\n",
    "    except:\n",
    "        cleaned.append(\"NAN\")\n",
    "data['cleanedtext'] = cleaned  # attaching the cleaned data as a new column to the dataset\n",
    "data.to_csv (r'AmazonMobileDataCleaned.csv') # saving data in a new file in csv format"
   ]
  },
  {
   "cell_type": "code",
   "execution_count": 4,
   "metadata": {},
   "outputs": [
    {
     "name": "stdout",
     "output_type": "stream",
     "text": [
      "(72180, 7)\n"
     ]
    }
   ],
   "source": [
    "#taking the cleaned data and deleing rowsthat have only special symbols\n",
    "data=pd.read_csv('AmazonMobileDataCleaned.csv')\n",
    "data.drop(data[data[\"cleanedtext\"]==\"NAN\"].index,axis = 0,inplace = True) # deleting rows that have no text \n",
    "data=data.reset_index(drop='true') # after deleting rows index should be reset\n",
    "print(data.shape)\n",
    "data.to_csv (r'AmazonMobileDataCleanedFinal.csv')  # final data file after cleaning"
   ]
  },
  {
   "cell_type": "code",
   "execution_count": null,
   "metadata": {},
   "outputs": [],
   "source": []
  }
 ],
 "metadata": {
  "celltoolbar": "Raw Cell Format",
  "kernelspec": {
   "display_name": "Python 3",
   "language": "python",
   "name": "python3"
  },
  "language_info": {
   "codemirror_mode": {
    "name": "ipython",
    "version": 3
   },
   "file_extension": ".py",
   "mimetype": "text/x-python",
   "name": "python",
   "nbconvert_exporter": "python",
   "pygments_lexer": "ipython3",
   "version": "3.8.8"
  }
 },
 "nbformat": 4,
 "nbformat_minor": 2
}
